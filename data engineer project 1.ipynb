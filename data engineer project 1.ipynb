{
 "cells": [
  {
   "cell_type": "code",
   "execution_count": 1,
   "id": "18cfc325",
   "metadata": {},
   "outputs": [],
   "source": [
    "#pip install pandas"
   ]
  },
  {
   "cell_type": "code",
   "execution_count": null,
   "id": "bcae5d86",
   "metadata": {},
   "outputs": [],
   "source": [
    "import psycopg2\n",
    "import pandas as pd"
   ]
  },
  {
   "cell_type": "code",
   "execution_count": null,
   "id": "a6264726",
   "metadata": {},
   "outputs": [],
   "source": [
    "def create_database():\n",
    "    #connect default datbase\n",
    "    #conn = psycopg2.connect(\"host=127.0.0.1 dbname=myfirstdb user=postgres password=root\")\n",
    "    conn = psycopg2.connect(\"host=127.0.0.1 dbname=myfirstdb user=postgres password=root\")\n",
    "    conn.set_session(autocommit=True)\n",
    "    cur = conn.cursor()\n",
    "    \n",
    "    # create sparkify database with UTF8 encoding\n",
    "    cur.execute(\"Drop DATABASE IF EXISTS accounts\")\n",
    "    cur.execute(\"CREATE DATABASE accounts\") \n",
    "    \n",
    "    # close connection to default database\n",
    "    conn.close()\n",
    "    \n",
    "    # connect to sparkify database\n",
    "    conn = psycopg2.connect(\"host=127.0.0.1 dbname=accounts user=postgres password=Cash@9129300\")\n",
    "    cur = conn.cursor()\n",
    "    \n",
    "    return cur, conn"
   ]
  },
  {
   "cell_type": "code",
   "execution_count": null,
   "id": "8821174c",
   "metadata": {},
   "outputs": [],
   "source": [
    "def drop_tables(cur, conn):\n",
    "    for query in drop_table_queries:\n",
    "        cur.execute(query)\n",
    "        conn.commit()"
   ]
  },
  {
   "cell_type": "code",
   "execution_count": null,
   "id": "1cd1b5c8",
   "metadata": {},
   "outputs": [],
   "source": [
    "def create_tables(cur, conn):\n",
    "    for query in create_table_queries:\n",
    "        cur.execute(query)\n",
    "        conn.commmit()"
   ]
  },
  {
   "cell_type": "code",
   "execution_count": null,
   "id": "928b1e4a",
   "metadata": {},
   "outputs": [],
   "source": [
    "AccountsCountry = pd.read_csv(\"data/Wealth-AccountsCountry.csv\")"
   ]
  },
  {
   "cell_type": "code",
   "execution_count": null,
   "id": "b03cccf5",
   "metadata": {},
   "outputs": [],
   "source": [
    "AccountsCountry.head()"
   ]
  },
  {
   "cell_type": "code",
   "execution_count": null,
   "id": "41ecdb61",
   "metadata": {},
   "outputs": [],
   "source": [
    "AccountsCountry_clean = AccountsCountry[['Country Code', 'Short Name', 'Table Name', 'Long Name', 'Currency Unit']]"
   ]
  },
  {
   "cell_type": "code",
   "execution_count": null,
   "id": "68a1395e",
   "metadata": {},
   "outputs": [],
   "source": [
    "AccountsCountry_clean.head()"
   ]
  },
  {
   "cell_type": "code",
   "execution_count": 10,
   "id": "8b4c932c",
   "metadata": {},
   "outputs": [],
   "source": [
    "AccountsData = pd.read_csv(\"data/Wealth-AccountData.csv\")"
   ]
  },
  {
   "cell_type": "code",
   "execution_count": 11,
   "id": "950f4f2e",
   "metadata": {},
   "outputs": [
    {
     "data": {
      "text/html": [
       "<div>\n",
       "<style scoped>\n",
       "    .dataframe tbody tr th:only-of-type {\n",
       "        vertical-align: middle;\n",
       "    }\n",
       "\n",
       "    .dataframe tbody tr th {\n",
       "        vertical-align: top;\n",
       "    }\n",
       "\n",
       "    .dataframe thead th {\n",
       "        text-align: right;\n",
       "    }\n",
       "</style>\n",
       "<table border=\"1\" class=\"dataframe\">\n",
       "  <thead>\n",
       "    <tr style=\"text-align: right;\">\n",
       "      <th></th>\n",
       "      <th>Country Name</th>\n",
       "      <th>Country Code</th>\n",
       "      <th>Indicator Name</th>\n",
       "      <th>Indicator Code</th>\n",
       "      <th>1995</th>\n",
       "      <th>1996</th>\n",
       "      <th>1997</th>\n",
       "      <th>1998</th>\n",
       "      <th>1999</th>\n",
       "      <th>2000</th>\n",
       "      <th>...</th>\n",
       "      <th>2009</th>\n",
       "      <th>2010</th>\n",
       "      <th>2011</th>\n",
       "      <th>2012</th>\n",
       "      <th>2013</th>\n",
       "      <th>2014</th>\n",
       "      <th>2015</th>\n",
       "      <th>2016</th>\n",
       "      <th>2017</th>\n",
       "      <th>2018</th>\n",
       "    </tr>\n",
       "  </thead>\n",
       "  <tbody>\n",
       "    <tr>\n",
       "      <th>0</th>\n",
       "      <td>Albania</td>\n",
       "      <td>ALB</td>\n",
       "      <td>Human capital (constant 2018 US$)</td>\n",
       "      <td>NW.HCA.TO</td>\n",
       "      <td>4.49E+10</td>\n",
       "      <td>4.34E+10</td>\n",
       "      <td>3.71E+10</td>\n",
       "      <td>3.88E+10</td>\n",
       "      <td>4.22E+10</td>\n",
       "      <td>4.36E+10</td>\n",
       "      <td>...</td>\n",
       "      <td>6.610000e+10</td>\n",
       "      <td>6.810000e+10</td>\n",
       "      <td>6.850000e+10</td>\n",
       "      <td>7.080000e+10</td>\n",
       "      <td>7.160000e+10</td>\n",
       "      <td>7.250000e+10</td>\n",
       "      <td>7.370000e+10</td>\n",
       "      <td>7.57E+10</td>\n",
       "      <td>7.80E+10</td>\n",
       "      <td>8.12E+10</td>\n",
       "    </tr>\n",
       "    <tr>\n",
       "      <th>1</th>\n",
       "      <td>Albania</td>\n",
       "      <td>ALB</td>\n",
       "      <td>Human capital per capita (constant 2018 US$)</td>\n",
       "      <td>NW.HCA.PC</td>\n",
       "      <td>14072.79</td>\n",
       "      <td>13708.99</td>\n",
       "      <td>11794.1</td>\n",
       "      <td>12399.48</td>\n",
       "      <td>13573.26</td>\n",
       "      <td>14118.13</td>\n",
       "      <td>...</td>\n",
       "      <td>2.258200e+04</td>\n",
       "      <td>2.336286e+04</td>\n",
       "      <td>2.359058e+04</td>\n",
       "      <td>2.439397e+04</td>\n",
       "      <td>2.473162e+04</td>\n",
       "      <td>2.509002e+04</td>\n",
       "      <td>2.559371e+04</td>\n",
       "      <td>26326.26</td>\n",
       "      <td>27160.86</td>\n",
       "      <td>28333.68</td>\n",
       "    </tr>\n",
       "    <tr>\n",
       "      <th>2</th>\n",
       "      <td>Albania</td>\n",
       "      <td>ALB</td>\n",
       "      <td>Human capital per capita, employed female (con...</td>\n",
       "      <td>NW.HCA.FEMP.PC</td>\n",
       "      <td>3468.858</td>\n",
       "      <td>3355.549</td>\n",
       "      <td>2868.997</td>\n",
       "      <td>3013.391</td>\n",
       "      <td>3259.893</td>\n",
       "      <td>3424.007</td>\n",
       "      <td>...</td>\n",
       "      <td>2.825336e+03</td>\n",
       "      <td>2.889150e+03</td>\n",
       "      <td>2.848523e+03</td>\n",
       "      <td>2.930234e+03</td>\n",
       "      <td>2.954273e+03</td>\n",
       "      <td>2.957420e+03</td>\n",
       "      <td>2.987545e+03</td>\n",
       "      <td>3072.504</td>\n",
       "      <td>3178.417</td>\n",
       "      <td>3312.927</td>\n",
       "    </tr>\n",
       "    <tr>\n",
       "      <th>3</th>\n",
       "      <td>Albania</td>\n",
       "      <td>ALB</td>\n",
       "      <td>Human capital per capita, employed male (const...</td>\n",
       "      <td>NW.HCA.MEMP.PC</td>\n",
       "      <td>6507.931</td>\n",
       "      <td>6353.737</td>\n",
       "      <td>5466.692</td>\n",
       "      <td>5901.072</td>\n",
       "      <td>6492.73</td>\n",
       "      <td>6872.019</td>\n",
       "      <td>...</td>\n",
       "      <td>1.525319e+04</td>\n",
       "      <td>1.578992e+04</td>\n",
       "      <td>1.579854e+04</td>\n",
       "      <td>1.647360e+04</td>\n",
       "      <td>1.681013e+04</td>\n",
       "      <td>1.699138e+04</td>\n",
       "      <td>1.730701e+04</td>\n",
       "      <td>17817.1</td>\n",
       "      <td>18445.94</td>\n",
       "      <td>19245.19</td>\n",
       "    </tr>\n",
       "    <tr>\n",
       "      <th>4</th>\n",
       "      <td>Albania</td>\n",
       "      <td>ALB</td>\n",
       "      <td>Human capital per capita, female (constant 201...</td>\n",
       "      <td>NW.HCA.FEMA.PC</td>\n",
       "      <td>4893.006</td>\n",
       "      <td>4737.857</td>\n",
       "      <td>4059.321</td>\n",
       "      <td>4191.445</td>\n",
       "      <td>4536.972</td>\n",
       "      <td>4695.071</td>\n",
       "      <td>...</td>\n",
       "      <td>3.529144e+03</td>\n",
       "      <td>3.613606e+03</td>\n",
       "      <td>3.603694e+03</td>\n",
       "      <td>3.683810e+03</td>\n",
       "      <td>3.696744e+03</td>\n",
       "      <td>3.719608e+03</td>\n",
       "      <td>3.767628e+03</td>\n",
       "      <td>3872.142</td>\n",
       "      <td>3992.188</td>\n",
       "      <td>4161.137</td>\n",
       "    </tr>\n",
       "  </tbody>\n",
       "</table>\n",
       "<p>5 rows × 28 columns</p>\n",
       "</div>"
      ],
      "text/plain": [
       "  Country Name Country Code   \n",
       "0      Albania          ALB  \\\n",
       "1      Albania          ALB   \n",
       "2      Albania          ALB   \n",
       "3      Albania          ALB   \n",
       "4      Albania          ALB   \n",
       "\n",
       "                                      Indicator Name  Indicator Code   \n",
       "0                  Human capital (constant 2018 US$)       NW.HCA.TO  \\\n",
       "1       Human capital per capita (constant 2018 US$)       NW.HCA.PC   \n",
       "2  Human capital per capita, employed female (con...  NW.HCA.FEMP.PC   \n",
       "3  Human capital per capita, employed male (const...  NW.HCA.MEMP.PC   \n",
       "4  Human capital per capita, female (constant 201...  NW.HCA.FEMA.PC   \n",
       "\n",
       "       1995      1996      1997      1998      1999      2000  ...   \n",
       "0  4.49E+10  4.34E+10  3.71E+10  3.88E+10  4.22E+10  4.36E+10  ...  \\\n",
       "1  14072.79  13708.99   11794.1  12399.48  13573.26  14118.13  ...   \n",
       "2  3468.858  3355.549  2868.997  3013.391  3259.893  3424.007  ...   \n",
       "3  6507.931  6353.737  5466.692  5901.072   6492.73  6872.019  ...   \n",
       "4  4893.006  4737.857  4059.321  4191.445  4536.972  4695.071  ...   \n",
       "\n",
       "           2009          2010          2011          2012          2013   \n",
       "0  6.610000e+10  6.810000e+10  6.850000e+10  7.080000e+10  7.160000e+10  \\\n",
       "1  2.258200e+04  2.336286e+04  2.359058e+04  2.439397e+04  2.473162e+04   \n",
       "2  2.825336e+03  2.889150e+03  2.848523e+03  2.930234e+03  2.954273e+03   \n",
       "3  1.525319e+04  1.578992e+04  1.579854e+04  1.647360e+04  1.681013e+04   \n",
       "4  3.529144e+03  3.613606e+03  3.603694e+03  3.683810e+03  3.696744e+03   \n",
       "\n",
       "           2014          2015      2016      2017      2018  \n",
       "0  7.250000e+10  7.370000e+10  7.57E+10  7.80E+10  8.12E+10  \n",
       "1  2.509002e+04  2.559371e+04  26326.26  27160.86  28333.68  \n",
       "2  2.957420e+03  2.987545e+03  3072.504  3178.417  3312.927  \n",
       "3  1.699138e+04  1.730701e+04   17817.1  18445.94  19245.19  \n",
       "4  3.719608e+03  3.767628e+03  3872.142  3992.188  4161.137  \n",
       "\n",
       "[5 rows x 28 columns]"
      ]
     },
     "execution_count": 11,
     "metadata": {},
     "output_type": "execute_result"
    }
   ],
   "source": [
    "AccountsData.head()"
   ]
  },
  {
   "cell_type": "code",
   "execution_count": 12,
   "id": "9b47005d",
   "metadata": {},
   "outputs": [
    {
     "data": {
      "text/plain": [
       "Index(['Country Name', 'Country Code', 'Indicator Name', 'Indicator Code',\n",
       "       '1995', '1996', '1997', '1998', '1999', '2000', '2001', '2002', '2003',\n",
       "       '2004', '2005', '2006', '2007', '2008', '2009', '2010', '2011', '2012',\n",
       "       '2013', '2014', '2015', '2016', '2017', '2018'],\n",
       "      dtype='object')"
      ]
     },
     "execution_count": 12,
     "metadata": {},
     "output_type": "execute_result"
    }
   ],
   "source": [
    "AccountsData.columns"
   ]
  },
  {
   "cell_type": "code",
   "execution_count": 13,
   "id": "61ca6286",
   "metadata": {},
   "outputs": [],
   "source": [
    "AccountsData = AccountsData.drop(['2018'],axis=1)"
   ]
  },
  {
   "cell_type": "code",
   "execution_count": 14,
   "id": "22bff2ea",
   "metadata": {},
   "outputs": [],
   "source": [
    "AccountsData_clean = AccountsData[['Country Name', 'Country Code', 'Indicator Name', 'Indicator Code', '1995', '2000','2005','2010', '2014' ]]"
   ]
  },
  {
   "cell_type": "code",
   "execution_count": 15,
   "id": "e496bd0e",
   "metadata": {},
   "outputs": [
    {
     "data": {
      "text/html": [
       "<div>\n",
       "<style scoped>\n",
       "    .dataframe tbody tr th:only-of-type {\n",
       "        vertical-align: middle;\n",
       "    }\n",
       "\n",
       "    .dataframe tbody tr th {\n",
       "        vertical-align: top;\n",
       "    }\n",
       "\n",
       "    .dataframe thead th {\n",
       "        text-align: right;\n",
       "    }\n",
       "</style>\n",
       "<table border=\"1\" class=\"dataframe\">\n",
       "  <thead>\n",
       "    <tr style=\"text-align: right;\">\n",
       "      <th></th>\n",
       "      <th>Country Name</th>\n",
       "      <th>Country Code</th>\n",
       "      <th>Indicator Name</th>\n",
       "      <th>Indicator Code</th>\n",
       "      <th>1995</th>\n",
       "      <th>2000</th>\n",
       "      <th>2005</th>\n",
       "      <th>2010</th>\n",
       "      <th>2014</th>\n",
       "    </tr>\n",
       "  </thead>\n",
       "  <tbody>\n",
       "    <tr>\n",
       "      <th>0</th>\n",
       "      <td>Albania</td>\n",
       "      <td>ALB</td>\n",
       "      <td>Human capital (constant 2018 US$)</td>\n",
       "      <td>NW.HCA.TO</td>\n",
       "      <td>4.49E+10</td>\n",
       "      <td>4.36E+10</td>\n",
       "      <td>5.440000e+10</td>\n",
       "      <td>6.810000e+10</td>\n",
       "      <td>7.250000e+10</td>\n",
       "    </tr>\n",
       "    <tr>\n",
       "      <th>1</th>\n",
       "      <td>Albania</td>\n",
       "      <td>ALB</td>\n",
       "      <td>Human capital per capita (constant 2018 US$)</td>\n",
       "      <td>NW.HCA.PC</td>\n",
       "      <td>14072.79</td>\n",
       "      <td>14118.13</td>\n",
       "      <td>1.807230e+04</td>\n",
       "      <td>2.336286e+04</td>\n",
       "      <td>2.509002e+04</td>\n",
       "    </tr>\n",
       "    <tr>\n",
       "      <th>2</th>\n",
       "      <td>Albania</td>\n",
       "      <td>ALB</td>\n",
       "      <td>Human capital per capita, employed female (con...</td>\n",
       "      <td>NW.HCA.FEMP.PC</td>\n",
       "      <td>3468.858</td>\n",
       "      <td>3424.007</td>\n",
       "      <td>2.222115e+03</td>\n",
       "      <td>2.889150e+03</td>\n",
       "      <td>2.957420e+03</td>\n",
       "    </tr>\n",
       "    <tr>\n",
       "      <th>3</th>\n",
       "      <td>Albania</td>\n",
       "      <td>ALB</td>\n",
       "      <td>Human capital per capita, employed male (const...</td>\n",
       "      <td>NW.HCA.MEMP.PC</td>\n",
       "      <td>6507.931</td>\n",
       "      <td>6872.019</td>\n",
       "      <td>1.168935e+04</td>\n",
       "      <td>1.578992e+04</td>\n",
       "      <td>1.699138e+04</td>\n",
       "    </tr>\n",
       "    <tr>\n",
       "      <th>4</th>\n",
       "      <td>Albania</td>\n",
       "      <td>ALB</td>\n",
       "      <td>Human capital per capita, female (constant 201...</td>\n",
       "      <td>NW.HCA.FEMA.PC</td>\n",
       "      <td>4893.006</td>\n",
       "      <td>4695.071</td>\n",
       "      <td>2.886736e+03</td>\n",
       "      <td>3.613606e+03</td>\n",
       "      <td>3.719608e+03</td>\n",
       "    </tr>\n",
       "  </tbody>\n",
       "</table>\n",
       "</div>"
      ],
      "text/plain": [
       "  Country Name Country Code   \n",
       "0      Albania          ALB  \\\n",
       "1      Albania          ALB   \n",
       "2      Albania          ALB   \n",
       "3      Albania          ALB   \n",
       "4      Albania          ALB   \n",
       "\n",
       "                                      Indicator Name  Indicator Code   \n",
       "0                  Human capital (constant 2018 US$)       NW.HCA.TO  \\\n",
       "1       Human capital per capita (constant 2018 US$)       NW.HCA.PC   \n",
       "2  Human capital per capita, employed female (con...  NW.HCA.FEMP.PC   \n",
       "3  Human capital per capita, employed male (const...  NW.HCA.MEMP.PC   \n",
       "4  Human capital per capita, female (constant 201...  NW.HCA.FEMA.PC   \n",
       "\n",
       "       1995      2000          2005          2010          2014  \n",
       "0  4.49E+10  4.36E+10  5.440000e+10  6.810000e+10  7.250000e+10  \n",
       "1  14072.79  14118.13  1.807230e+04  2.336286e+04  2.509002e+04  \n",
       "2  3468.858  3424.007  2.222115e+03  2.889150e+03  2.957420e+03  \n",
       "3  6507.931  6872.019  1.168935e+04  1.578992e+04  1.699138e+04  \n",
       "4  4893.006  4695.071  2.886736e+03  3.613606e+03  3.719608e+03  "
      ]
     },
     "execution_count": 15,
     "metadata": {},
     "output_type": "execute_result"
    }
   ],
   "source": [
    "AccountsData_clean .head()"
   ]
  },
  {
   "cell_type": "code",
   "execution_count": 16,
   "id": "a637563b",
   "metadata": {},
   "outputs": [],
   "source": [
    "AccountsSeries = pd.read_csv(\"data/Wealth-AccountSeries.csv\")"
   ]
  },
  {
   "cell_type": "code",
   "execution_count": null,
   "id": "9a2e092c",
   "metadata": {},
   "outputs": [],
   "source": [
    "AccountsSeries.columns"
   ]
  },
  {
   "cell_type": "code",
   "execution_count": null,
   "id": "d243a0fa",
   "metadata": {},
   "outputs": [],
   "source": [
    "AccountsSeries_clean = AccountsSeries[['Series Code', 'Topic', 'Indicator Name', 'Long definition']]"
   ]
  },
  {
   "cell_type": "code",
   "execution_count": null,
   "id": "2b4b5857",
   "metadata": {},
   "outputs": [],
   "source": [
    "AccountsSeries_clean.head()"
   ]
  },
  {
   "cell_type": "markdown",
   "id": "fd8d54a3",
   "metadata": {},
   "source": [
    "### Create Data model in Draw.io\n"
   ]
  },
  {
   "cell_type": "markdown",
   "id": "c0f40ff8",
   "metadata": {},
   "source": [
    "### Create Table\n"
   ]
  },
  {
   "cell_type": "code",
   "execution_count": null,
   "id": "3bd78c46",
   "metadata": {
    "scrolled": true
   },
   "outputs": [],
   "source": [
    "cur, conn = create_database()"
   ]
  },
  {
   "cell_type": "markdown",
   "id": "f98e5394",
   "metadata": {},
   "source": [
    "NOW in Table structure we define country code as primary key but in csv file of Accountscountry data table country_code column contain duplicate values which throws error so we don't take country_code VARCHAR as PRIMARY KEY."
   ]
  },
  {
   "cell_type": "code",
   "execution_count": null,
   "id": "510cf987",
   "metadata": {},
   "outputs": [],
   "source": [
    "# accounts_country_table_create = (\"\"\"CREATE TABLE IF NOT EXISTS accountscountry(\n",
    "# country_code VARCHAR PRIMARY KEY,\n",
    "# short_name  VARCHAR,\n",
    "# table_name  VARCHAR,\n",
    "# long_name   VARCHAR,\n",
    "# currency_unit  VARCHAR\n",
    "# )\"\"\")"
   ]
  },
  {
   "cell_type": "code",
   "execution_count": null,
   "id": "b620e6e9",
   "metadata": {},
   "outputs": [],
   "source": [
    "accounts_country_table_create = (\"\"\"CREATE TABLE IF NOT EXISTS accountscountry(\n",
    "country_code VARCHAR,\n",
    "short_name  VARCHAR,\n",
    "table_name  VARCHAR,\n",
    "long_name   VARCHAR,\n",
    "currency_unit  VARCHAR\n",
    ")\"\"\")"
   ]
  },
  {
   "cell_type": "code",
   "execution_count": null,
   "id": "e70432bf",
   "metadata": {},
   "outputs": [],
   "source": [
    "cur.execute(accounts_country_table_create)\n",
    "conn.commit()"
   ]
  },
  {
   "cell_type": "code",
   "execution_count": null,
   "id": "f0b360fe",
   "metadata": {},
   "outputs": [],
   "source": [
    "accounts_data_table_create = (\"\"\"CREATE TABLE IF NOT EXISTS accountsdata(\n",
    "country_name VARCHAR,\n",
    "country_code VARCHAR,\n",
    "indicator_name VARCHAR,\n",
    "indicator_code VARCHAR,\n",
    "year_1995 numeric,\n",
    "year_2000 numeric,\n",
    "year_2005 numeric,\n",
    "year_2010 numeric,\n",
    "year_2014 numeric\n",
    ")\"\"\")\n",
    "cur.execute(accounts_data_table_create)\n",
    "conn.commit()"
   ]
  },
  {
   "cell_type": "code",
   "execution_count": null,
   "id": "a4103e92",
   "metadata": {},
   "outputs": [],
   "source": [
    "accountseries_data_table_create = (\"\"\"CREATE TABLE IF NOT EXISTS accountseries(\n",
    "series_code VARCHAR,\n",
    "topic  VARCHAR,\n",
    "indicator_name  VARCHAR,\n",
    "long_definition VARCHAR\n",
    ")\"\"\")\n",
    "cur.execute(accountseries_data_table_create)\n",
    "conn.commit()"
   ]
  },
  {
   "cell_type": "markdown",
   "id": "3f0fa40d",
   "metadata": {},
   "source": [
    "### Insert Data into Table"
   ]
  },
  {
   "cell_type": "code",
   "execution_count": null,
   "id": "1f9f59b9",
   "metadata": {},
   "outputs": [],
   "source": [
    "accounts_country_table_insert = (\"\"\"INSERT INTO accountscountry(\n",
    "country_code,\n",
    "short_name,\n",
    "table_name,\n",
    "long_name,\n",
    "currency_unit)\n",
    "VALUES (%s, %s, %s, %s, %s)\n",
    "\"\"\")"
   ]
  },
  {
   "cell_type": "code",
   "execution_count": null,
   "id": "d2229ab4",
   "metadata": {},
   "outputs": [],
   "source": [
    "for i, row in AccountsCountry_clean.iterrows():\n",
    "        cur.execute(accounts_country_table_insert, list(row))\n"
   ]
  },
  {
   "cell_type": "code",
   "execution_count": null,
   "id": "b78f0d4b",
   "metadata": {},
   "outputs": [],
   "source": [
    "conn.commit()"
   ]
  },
  {
   "cell_type": "code",
   "execution_count": null,
   "id": "e22c517d",
   "metadata": {},
   "outputs": [],
   "source": [
    "accounts_data_table_insert = (\"\"\"INSERT INTO accountsdata(\n",
    "country_name,\n",
    "country_code,\n",
    "indicator_name,\n",
    "indicator_code,\n",
    "year_1995,\n",
    "year_2000,\n",
    "year_2005,\n",
    "year_2010,\n",
    "year_2014)\n",
    "VALUES (%s, %s, %s, %s, %s, %s, %s, %s, %s)\n",
    "\"\"\")"
   ]
  },
  {
   "cell_type": "code",
   "execution_count": null,
   "id": "43303f4b",
   "metadata": {},
   "outputs": [],
   "source": [
    "accountseries_data_table_insert = (\"\"\"INSERT INTO accountscountry(\n",
    "series_code,\n",
    "topic,\n",
    "indicator_name,\n",
    "long_definition)\n",
    "VALUES (%s, %s, %s, %s)\n",
    "\"\"\")"
   ]
  },
  {
   "cell_type": "code",
   "execution_count": null,
   "id": "922b6eb2",
   "metadata": {},
   "outputs": [],
   "source": []
  }
 ],
 "metadata": {
  "kernelspec": {
   "display_name": "Python 3 (ipykernel)",
   "language": "python",
   "name": "python3"
  },
  "language_info": {
   "codemirror_mode": {
    "name": "ipython",
    "version": 3
   },
   "file_extension": ".py",
   "mimetype": "text/x-python",
   "name": "python",
   "nbconvert_exporter": "python",
   "pygments_lexer": "ipython3",
   "version": "3.11.3"
  }
 },
 "nbformat": 4,
 "nbformat_minor": 5
}
